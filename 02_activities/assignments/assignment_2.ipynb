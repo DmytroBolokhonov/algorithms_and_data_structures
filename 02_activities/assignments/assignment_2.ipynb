{
 "cells": [
  {
   "cell_type": "markdown",
   "metadata": {},
   "source": [
    "# Practice Interview\n",
    "\n",
    "## Objective\n",
    "\n",
    "_*The partner assignment aims to provide participants with the opportunity to practice coding in an interview context. You will analyze your partner's Assignment 1. Moreover, code reviews are common practice in a software development team. This assignment should give you a taste of the code review process.*_\n",
    "\n",
    "## Group Size\n",
    "\n",
    "Each group should have 2 people. You will be assigned a partner\n",
    "\n",
    "## Part 1:\n",
    "\n",
    "You and your partner must share each other's Assignment 1 submission."
   ]
  },
  {
   "cell_type": "markdown",
   "metadata": {},
   "source": [
    "\n",
    "## Part 2:\n",
    "\n",
    "Create a Jupyter Notebook, create 6 of the following headings, and complete the following for your partner's assignment 1:\n",
    "\n",
    "-   Paraphrase the problem in your own words.\n"
   ]
  },
  {
   "cell_type": "markdown",
   "metadata": {},
   "source": [
    "The goal is to take a list of values representing a binary tree in level-order and build the tree. Then, find all possible paths from the root to the leaf nodes. Each path should be returned as a list of values, and the final output is a list of all such paths. If the input list is empty, the output should be an empty list."
   ]
  },
  {
   "cell_type": "markdown",
   "metadata": {},
   "source": [
    "\n",
    "-   Create 1 new example that demonstrates you understand the problem. Trace/walkthrough 1 example that your partner made and explain it.\n"
   ]
  },
  {
   "cell_type": "markdown",
   "metadata": {},
   "source": [
    "### Example \n",
    "- **Input**: `root = [8, 4, 10, 2, 6, None, 20, 1]`\n",
    "- **Tree Structure**:"
   ]
  },
  {
   "cell_type": "code",
   "execution_count": 9,
   "metadata": {},
   "outputs": [
    {
     "ename": "IndentationError",
     "evalue": "unindent does not match any outer indentation level (<tokenize>, line 4)",
     "output_type": "error",
     "traceback": [
      "\u001b[0;36m  File \u001b[0;32m<tokenize>:4\u001b[0;36m\u001b[0m\n\u001b[0;31m    / \\       \\\u001b[0m\n\u001b[0m    ^\u001b[0m\n\u001b[0;31mIndentationError\u001b[0m\u001b[0;31m:\u001b[0m unindent does not match any outer indentation level\n"
     ]
    }
   ],
   "source": [
    "     8\n",
    "   /   \\\n",
    "  4     10\n",
    " / \\       \\\n",
    "2   6      20"
   ]
  },
  {
   "cell_type": "markdown",
   "metadata": {},
   "source": [
    "- **Output**: `[[8, 4, 2, 1], [8, 4, 6], [8, 10, 20]]`"
   ]
  },
  {
   "cell_type": "markdown",
   "metadata": {},
   "source": [
    "\n",
    "-   Copy the solution your partner wrote. \n"
   ]
  },
  {
   "cell_type": "code",
   "execution_count": 4,
   "metadata": {},
   "outputs": [
    {
     "data": {
      "text/plain": [
       "[[5, 1, 3], [5, 9, 7, 4]]"
      ]
     },
     "execution_count": 4,
     "metadata": {},
     "output_type": "execute_result"
    }
   ],
   "source": [
    "\n",
    "# Definition for a binary tree node.\n",
    "class TreeNode(object):\n",
    "  def __init__(self, val=0, left=None, right=None):\n",
    "      self.val = val\n",
    "      self.left = left\n",
    "      self.right = right\n",
    "\n",
    "def bt_path(values):\n",
    "  \"\"\"Finds all root-to-leaf paths in a binary tree, given as a list of values (level-order).\"\"\"\n",
    "  \n",
    "  # Step 1: Build the binary tree from the list\n",
    "  if not values:\n",
    "      return []\n",
    "  \n",
    "  root = TreeNode(values[0])\n",
    "  queue = [root]\n",
    "  idx = 1\n",
    "  while queue and idx < len(values):\n",
    "      node = queue.pop(0)\n",
    "      if values[idx] is not None:\n",
    "          node.left = TreeNode(values[idx])\n",
    "          queue.append(node.left)\n",
    "      idx += 1\n",
    "      if idx < len(values) and values[idx] is not None:\n",
    "          node.right = TreeNode(values[idx])\n",
    "          queue.append(node.right)\n",
    "      idx += 1\n",
    "\n",
    "  # Step 2: Perform DFS to find all root-to-leaf paths\n",
    "  def dfs(node, path, paths):\n",
    "      if not node:\n",
    "          return\n",
    "      path.append(node.val)\n",
    "      if not node.left and not node.right:\n",
    "          paths.append(path[:])  # Add a copy of the current path\n",
    "      else:\n",
    "          dfs(node.left, path, paths)\n",
    "          dfs(node.right, path, paths)\n",
    "      path.pop()\n",
    "  \n",
    "  paths = []\n",
    "  dfs(root, [], paths)\n",
    "  return paths\n",
    "\n",
    "# Example 1\n",
    "bt_path([4, 2, 6, 1, 3, 5, 7])\n",
    "# Output: [[4, 2, 1], [4, 2, 3], [4, 6, 5], [4, 6, 7]]\n",
    "\n",
    "# Example 2\n",
    "bt_path([5, 1, 9, None, 3, 7, None, None, None, 4])\n",
    "# Output: [[5, 1, 3, 4], [5, 9, 7]]\n"
   ]
  },
  {
   "cell_type": "markdown",
   "metadata": {},
   "source": [
    "\n",
    "-   Explain why their solution works in your own words.\n"
   ]
  },
  {
   "cell_type": "markdown",
   "metadata": {},
   "source": [
    "The solution consists of two main parts:\n",
    "\n",
    "#### Building the Tree:\n",
    "- The function takes a list of values and creates a binary tree by processing each value in level-order.\n",
    "- Each non-`None` value is added as a child of the current node, ensuring the tree is built correctly.\n",
    "\n",
    "#### Finding Paths:\n",
    "- Using depth-first search (DFS), the function explores all possible paths from the root to the leaf nodes.\n",
    "  - For each node, its value is added to the current path.\n",
    "  - When a leaf node (a node with no children) is reached, the path is saved as part of the result.\n",
    "  - After exploring a path, the function backtracks to try other paths by removing the last added value.\n",
    "- This process ensures that all root-to-leaf paths are found and returned."
   ]
  },
  {
   "cell_type": "markdown",
   "metadata": {},
   "source": [
    "\n",
    "-   Explain the problem’s time and space complexity in your own words.\n"
   ]
  },
  {
   "cell_type": "markdown",
   "metadata": {},
   "source": [
    "#### Time Complexity\n",
    "\n",
    "##### Building the Tree:\n",
    "- The function processes each value in the input list exactly once to construct the binary tree. This step grows linearly with the size of the input list.\n",
    "\n",
    "##### Finding Paths:\n",
    "- The depth-first search visits every node in the tree one time. Since it doesn’t revisit nodes, the time required is also proportional to the number of nodes in the tree.\n",
    "\n",
    "##### Total:\n",
    "- The overall time complexity is proportional to the total number of nodes, making it \\(O(n)\\).\n",
    "\n",
    "#### Space Complexity\n",
    "\n",
    "##### Tree Storage:\n",
    "- The tree structure itself needs memory to store all the nodes created from the input. This takes space proportional to the number of nodes.\n",
    "\n",
    "##### DFS Memory Usage:\n",
    "- While finding paths, the function uses memory to keep track of the current path and the recursive call stack. The amount of memory used depends on the height of the tree (deeper trees require more memory).\n",
    "\n",
    "##### Storing Results:\n",
    "- The result list, which contains all paths from the root to the leaves, also requires memory. If there are many paths and each path is long, this can take up significant space.\n",
    "\n",
    "##### Overall:\n",
    "- The total memory used depends on the size of the tree, its depth, and the number of paths found.\n"
   ]
  },
  {
   "cell_type": "markdown",
   "metadata": {},
   "source": [
    "\n",
    "-   Critique your partner's solution, including explanation, and if there is anything that should be adjusted.\n"
   ]
  },
  {
   "cell_type": "markdown",
   "metadata": {},
   "source": [
    "### Strengths:\n",
    "- The solution is clear, logically organized, and meets the problem requirements.\n",
    "- It uses an efficient approach for both tree construction and pathfinding.\n",
    "- The recursive depth-first search is an appropriate and effective method for solving the problem.\n",
    "\n",
    "### Areas for Improvement:\n",
    "\n",
    "1. **Input Validation**:\n",
    "   - The code does not check for invalid or malformed inputs (e.g., non-list inputs or lists containing invalid values). Adding input validation would make the function more robust.\n",
    "\n",
    "2. **Edge Case Handling**:\n",
    "   - Scenarios like an empty input list (`[]`) or a tree with only `None` values (`[None]`) should be explicitly tested and handled to avoid unexpected behavior.\n",
    "\n",
    "3. **Output Formatting**:\n",
    "   - Sorting the paths before returning them could make the output more consistent, especially if the results are being compared with others.\n"
   ]
  },
  {
   "cell_type": "markdown",
   "metadata": {},
   "source": [
    "\n",
    "## Part 3:\n",
    "\n",
    "Please write a 200 word reflection documenting your process from assignment 1, and your presentation and review experience with your partner at the bottom of the Jupyter Notebook under a new heading \"Reflection.\" Again, export this Notebook as pdf.\n"
   ]
  },
  {
   "cell_type": "markdown",
   "metadata": {},
   "source": [
    "### Reflection"
   ]
  },
  {
   "cell_type": "markdown",
   "metadata": {},
   "source": [
    "Working through Assignment 1 posed unique challenges, particularly in tackling a problem that required a deep understanding of binary tree structures and traversal algorithms. My assigned task involved identifying duplicate values in a binary tree, while my partner’s task focused on finding all root-to-leaf paths in a tree. Despite the difference in our questions, the underlying data structure was the same, which helped me draw parallels between our solutions.\n",
    "\n",
    "Analyzing my partner’s work was both insightful and challenging. Their problem required constructing a binary tree from a list and then implementing depth-first search (DFS) to find paths, which differed significantly from my breadth-first search (BFS)-based solution for detecting duplicates. Breaking down their code to understand its logic and efficiency allowed me to see how they approached recursion and backtracking, two concepts I found less intuitive. I created additional test cases to validate their solution and found their implementation robust, though I suggested improvements for handling edge cases and invalid inputs.\n",
    "\n",
    "Explaining their solution in my own words and critiquing it constructively pushed me to engage deeply with their logic. This process not only enhanced my understanding of binary tree traversal but also helped me appreciate the value of diverse problem-solving approaches. The assignment emphasized the importance of clear communication, peer learning, and analytical thinking, all of which are crucial for technical interviews.\n"
   ]
  },
  {
   "cell_type": "markdown",
   "metadata": {},
   "source": [
    "\n",
    "## Evaluation Criteria\n",
    "\n",
    "We are looking for the similar points as Assignment 1\n",
    "\n",
    "-   Problem is accurately stated\n",
    "\n",
    "-   New example is correct and easily understandable\n",
    "\n",
    "-   Correctness, time, and space complexity of the coding solution\n",
    "\n",
    "-   Clarity in explaining why the solution works, its time and space complexity\n",
    "\n",
    "-   Quality of critique of your partner's assignment, if necessary\n"
   ]
  },
  {
   "cell_type": "markdown",
   "metadata": {},
   "source": [
    "## Submission Information\n",
    "\n",
    "🚨 **Please review our [Assignment Submission Guide](https://github.com/UofT-DSI/onboarding/blob/main/onboarding_documents/submissions.md)** 🚨 for detailed instructions on how to format, branch, and submit your work. Following these guidelines is crucial for your submissions to be evaluated correctly.\n",
    "\n",
    "### Submission Parameters:\n",
    "* Submission Due Date: `HH:MM AM/PM - DD/MM/YYYY`\n",
    "* The branch name for your repo should be: `assignment-2`\n",
    "* What to submit for this assignment:\n",
    "    * This Jupyter Notebook (assignment_2.ipynb) should be populated and should be the only change in your pull request.\n",
    "* What the pull request link should look like for this assignment: `https://github.com/<your_github_username>/algorithms_and_data_structures/pull/<pr_id>`\n",
    "    * Open a private window in your browser. Copy and paste the link to your pull request into the address bar. Make sure you can see your pull request properly. This helps the technical facilitator and learning support staff review your submission easily.\n",
    "\n",
    "Checklist:\n",
    "- [ ] Created a branch with the correct naming convention.\n",
    "- [ ] Ensured that the repository is public.\n",
    "- [ ] Reviewed the PR description guidelines and adhered to them.\n",
    "- [ ] Verify that the link is accessible in a private browser window.\n",
    "\n",
    "If you encounter any difficulties or have questions, please don't hesitate to reach out to our team via our Slack at `#cohort-3-help`. Our Technical Facilitators and Learning Support staff are here to help you navigate any challenges.\n"
   ]
  }
 ],
 "metadata": {
  "kernelspec": {
   "display_name": "dsi_participant",
   "language": "python",
   "name": "python3"
  },
  "language_info": {
   "codemirror_mode": {
    "name": "ipython",
    "version": 3
   },
   "file_extension": ".py",
   "mimetype": "text/x-python",
   "name": "python",
   "nbconvert_exporter": "python",
   "pygments_lexer": "ipython3",
   "version": "3.9.19"
  }
 },
 "nbformat": 4,
 "nbformat_minor": 2
}
